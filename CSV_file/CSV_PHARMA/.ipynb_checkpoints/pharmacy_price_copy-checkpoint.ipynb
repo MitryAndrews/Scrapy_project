{
 "cells": [
  {
   "cell_type": "code",
   "execution_count": 1,
   "id": "850fd49a",
   "metadata": {},
   "outputs": [],
   "source": [
    "import pandas as pd\n",
    "import numpy as np\n",
    "import re\n",
    "import warnings\n",
    "warnings.simplefilter(\"ignore\")\n",
    "\n",
    "import matplotlib.pyplot as plt\n",
    "import seaborn as sns\n",
    "import plotly.express as px\n",
    "import plotly.graph_objects as go\n",
    "from datetime import datetime\n",
    "\n",
    "%matplotlib inline\n",
    "%config InlineBackend.figure_format = 'retina'\n",
    "\n",
    "from pylab import rcParams\n",
    "sns.set_style(\"whitegrid\", {'axes.grid' : True})\n",
    "\n",
    "plt.rc('figure', figsize=(10, 6))\n",
    "\n",
    "from plotly.offline import init_notebook_mode, iplot\n",
    "import plotly\n",
    "import plotly.graph_objs as go\n",
    "pd.set_option('display.float_format', '{:.2f}'.format)\n",
    "pd.set_option('display.max_columns', None)\n",
    "\n",
    "from sklearn.impute import SimpleImputer\n",
    "from scipy.stats import kurtosis, kurtosistest\n",
    "from scipy.stats import skew, skewtest\n",
    "from scipy.stats import ttest_ind\n",
    "from scipy.stats import f_oneway\n",
    "from scipy.stats import spearmanr\n",
    "from scipy.stats.stats import pearsonr\n",
    "from sklearn.feature_selection import SelectKBest\n",
    "from sklearn.feature_selection import chi2\n",
    "\n",
    "from fuzzywuzzy import fuzz\n",
    "from fuzzywuzzy import process\n",
    "import csv\n",
    "from collections import Counter\n",
    "import os"
   ]
  },
  {
   "cell_type": "code",
   "execution_count": 2,
   "id": "4d8ebac1",
   "metadata": {},
   "outputs": [
    {
     "name": "stdout",
     "output_type": "stream",
     "text": [
      "page \n",
      "['csv_APRIL_page_parsing_2022-12-28.csv', 'csv_APRIL_page_parsing_2023-05-07.csv']\n",
      "price\n",
      "['csv_price_APRIL_2022-12-28.csv', 'csv_price_APRIL_2023-05-07.csv']\n",
      "properties\n",
      "['csv_properties_APRIL_2022-12-28.csv', 'csv_properties_APRIL_2023-05-07.csv']\n"
     ]
    }
   ],
   "source": [
    "dirname_apr = fr'C:\\Users\\user\\Scrapy_project\\CSV_file\\CSV_PHARMA\\CSV_APRIL' #\n",
    "\n",
    "files = os.listdir(dirname_apr)\n",
    "page = []\n",
    "price = []\n",
    "properties = []\n",
    "for i in files:\n",
    "    if 'csv_APRIL_page_parsing_' in i:\n",
    "        page.append(i)\n",
    "    elif 'csv_price_APRIL_' in i:\n",
    "        price.append(i)\n",
    "    elif 'csv_properties_APRIL_' in i:\n",
    "        properties.append(i)\n",
    "page.sort()\n",
    "price.sort()\n",
    "properties.sort()\n",
    "print('page ', page, 'price', price, 'properties', properties, sep='\\n')"
   ]
  },
  {
   "cell_type": "code",
   "execution_count": null,
   "id": "cd9dcc5e",
   "metadata": {},
   "outputs": [],
   "source": []
  },
  {
   "cell_type": "code",
   "execution_count": null,
   "id": "c83ea275",
   "metadata": {},
   "outputs": [],
   "source": []
  }
 ],
 "metadata": {
  "kernelspec": {
   "display_name": "Python 3 (ipykernel)",
   "language": "python",
   "name": "python3"
  },
  "language_info": {
   "codemirror_mode": {
    "name": "ipython",
    "version": 3
   },
   "file_extension": ".py",
   "mimetype": "text/x-python",
   "name": "python",
   "nbconvert_exporter": "python",
   "pygments_lexer": "ipython3",
   "version": "3.9.15"
  }
 },
 "nbformat": 4,
 "nbformat_minor": 5
}
