{
 "cells": [
  {
   "cell_type": "code",
   "execution_count": 1,
   "id": "f76d5cd6",
   "metadata": {},
   "outputs": [],
   "source": [
    "import os\n",
    "import pathlib"
   ]
  },
  {
   "cell_type": "code",
   "execution_count": 2,
   "id": "1af515cb",
   "metadata": {},
   "outputs": [
    {
     "name": "stdout",
     "output_type": "stream",
     "text": [
      "C:\\Users\\mitry\\OneDrive\\Документы\\GitHub\\Scrapy_project\\CSV_file\n"
     ]
    }
   ],
   "source": [
    "dir_ = os.path.abspath(os.curdir)\n",
    "print(fr'{dir_}')"
   ]
  },
  {
   "cell_type": "code",
   "execution_count": 8,
   "id": "8463c1e4",
   "metadata": {},
   "outputs": [
    {
     "ename": "SyntaxError",
     "evalue": "EOL while scanning string literal (167716606.py, line 3)",
     "output_type": "error",
     "traceback": [
      "\u001b[1;36m  File \u001b[1;32m\"C:\\Users\\mitry\\AppData\\Local\\Temp\\ipykernel_12436\\167716606.py\"\u001b[1;36m, line \u001b[1;32m3\u001b[0m\n\u001b[1;33m    lll = os.walk ('C:\\Users\\mitry\\OneDrive\\Документы\\GitHub\\Scrapy_project\\')\u001b[0m\n\u001b[1;37m                                                                              ^\u001b[0m\n\u001b[1;31mSyntaxError\u001b[0m\u001b[1;31m:\u001b[0m EOL while scanning string literal\n"
     ]
    }
   ],
   "source": [
    "curdir = os.getcwd()\n",
    "print(curdir)\n",
    "lll = os.walk ('C:\\Users\\mitry\\OneDrive\\Документы\\GitHub\\Scrapy_project\\')\n",
    "for i in lll:\n",
    "    print(i)"
   ]
  },
  {
   "cell_type": "code",
   "execution_count": 7,
   "id": "0e1d5470",
   "metadata": {},
   "outputs": [
    {
     "name": "stdout",
     "output_type": "stream",
     "text": [
      "\n"
     ]
    }
   ],
   "source": []
  }
 ],
 "metadata": {
  "kernelspec": {
   "display_name": "Python 3 (ipykernel)",
   "language": "python",
   "name": "python3"
  },
  "language_info": {
   "codemirror_mode": {
    "name": "ipython",
    "version": 3
   },
   "file_extension": ".py",
   "mimetype": "text/x-python",
   "name": "python",
   "nbconvert_exporter": "python",
   "pygments_lexer": "ipython3",
   "version": "3.9.13"
  }
 },
 "nbformat": 4,
 "nbformat_minor": 5
}
